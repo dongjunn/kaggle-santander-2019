{
 "cells": [
  {
   "cell_type": "markdown",
   "metadata": {},
   "source": [
    "## 行方向仮説を検証するために EDA してみる"
   ]
  },
  {
   "cell_type": "code",
   "execution_count": null,
   "metadata": {},
   "outputs": [],
   "source": [
    "import sys\n",
    "sys.path.append('../')\n",
    "import pickle\n",
    "\n",
    "from tqdm import tqdm_notebook as tqdm\n",
    "\n",
    "import pandas as pd\n",
    "\n",
    "from matplotlib import pyplot as plt\n",
    "import seaborn as sns\n",
    "\n",
    "from tools.utils.features import load_features\n",
    "from tools.utils.configs import load_configs"
   ]
  },
  {
   "cell_type": "code",
   "execution_count": 3,
   "metadata": {},
   "outputs": [
    {
     "data": {
      "text/html": [
       "<style>.container { width:90% !important; }</style>"
      ],
      "text/plain": [
       "<IPython.core.display.HTML object>"
      ]
     },
     "metadata": {},
     "output_type": "display_data"
    }
   ],
   "source": [
    "from IPython.core.display import display, HTML\n",
    "display(HTML(\"<style>.container { width:90% !important; }</style>\"))\n",
    "%config InlineBackend.figure_formats = {'png', 'retina'}"
   ]
  },
  {
   "cell_type": "markdown",
   "metadata": {},
   "source": [
    "## start EDA"
   ]
  },
  {
   "cell_type": "code",
   "execution_count": 4,
   "metadata": {
    "scrolled": true
   },
   "outputs": [
    {
     "name": "stdout",
     "output_type": "stream",
     "text": [
      "USED_CONFIG: ../configs/c009.yml\n",
      "configs: {'features': ['ID_code', 'f001_var_0', 'f001_var_1', 'f001_var_10', 'f001_var_100', 'f001_var_101', 'f001_var_102', 'f001_var_103', 'f001_var_104', 'f001_var_105', 'f001_var_106', 'f001_var_107', 'f001_var_108', 'f001_var_109', 'f001_var_11', 'f001_var_110', 'f001_var_111', 'f001_var_112', 'f001_var_113', 'f001_var_114', 'f001_var_115', 'f001_var_116', 'f001_var_117', 'f001_var_118', 'f001_var_119', 'f001_var_12', 'f001_var_120', 'f001_var_121', 'f001_var_122', 'f001_var_123', 'f001_var_124', 'f001_var_125', 'f001_var_126', 'f001_var_127', 'f001_var_128', 'f001_var_129', 'f001_var_13', 'f001_var_130', 'f001_var_131', 'f001_var_132', 'f001_var_133', 'f001_var_134', 'f001_var_135', 'f001_var_136', 'f001_var_137', 'f001_var_138', 'f001_var_139', 'f001_var_14', 'f001_var_140', 'f001_var_141', 'f001_var_142', 'f001_var_143', 'f001_var_144', 'f001_var_145', 'f001_var_146', 'f001_var_147', 'f001_var_148', 'f001_var_149', 'f001_var_15', 'f001_var_150', 'f001_var_151', 'f001_var_152', 'f001_var_153', 'f001_var_154', 'f001_var_155', 'f001_var_156', 'f001_var_157', 'f001_var_158', 'f001_var_159', 'f001_var_16', 'f001_var_160', 'f001_var_161', 'f001_var_162', 'f001_var_163', 'f001_var_164', 'f001_var_165', 'f001_var_166', 'f001_var_167', 'f001_var_168', 'f001_var_169', 'f001_var_17', 'f001_var_170', 'f001_var_171', 'f001_var_172', 'f001_var_173', 'f001_var_174', 'f001_var_175', 'f001_var_176', 'f001_var_177', 'f001_var_178', 'f001_var_179', 'f001_var_18', 'f001_var_180', 'f001_var_181', 'f001_var_182', 'f001_var_183', 'f001_var_184', 'f001_var_185', 'f001_var_186', 'f001_var_187', 'f001_var_188', 'f001_var_189', 'f001_var_19', 'f001_var_190', 'f001_var_191', 'f001_var_192', 'f001_var_193', 'f001_var_194', 'f001_var_195', 'f001_var_196', 'f001_var_197', 'f001_var_198', 'f001_var_199', 'f001_var_2', 'f001_var_20', 'f001_var_21', 'f001_var_22', 'f001_var_23', 'f001_var_24', 'f001_var_25', 'f001_var_26', 'f001_var_27', 'f001_var_28', 'f001_var_29', 'f001_var_3', 'f001_var_30', 'f001_var_31', 'f001_var_32', 'f001_var_33', 'f001_var_34', 'f001_var_35', 'f001_var_36', 'f001_var_37', 'f001_var_38', 'f001_var_39', 'f001_var_4', 'f001_var_40', 'f001_var_41', 'f001_var_42', 'f001_var_43', 'f001_var_44', 'f001_var_45', 'f001_var_46', 'f001_var_47', 'f001_var_48', 'f001_var_49', 'f001_var_5', 'f001_var_50', 'f001_var_51', 'f001_var_52', 'f001_var_53', 'f001_var_54', 'f001_var_55', 'f001_var_56', 'f001_var_57', 'f001_var_58', 'f001_var_59', 'f001_var_6', 'f001_var_60', 'f001_var_61', 'f001_var_62', 'f001_var_63', 'f001_var_64', 'f001_var_65', 'f001_var_66', 'f001_var_67', 'f001_var_68', 'f001_var_69', 'f001_var_7', 'f001_var_70', 'f001_var_71', 'f001_var_72', 'f001_var_73', 'f001_var_74', 'f001_var_75', 'f001_var_76', 'f001_var_77', 'f001_var_78', 'f001_var_79', 'f001_var_8', 'f001_var_80', 'f001_var_81', 'f001_var_82', 'f001_var_83', 'f001_var_84', 'f001_var_85', 'f001_var_86', 'f001_var_87', 'f001_var_88', 'f001_var_89', 'f001_var_9', 'f001_var_90', 'f001_var_91', 'f001_var_92', 'f001_var_93', 'f001_var_94', 'f001_var_95', 'f001_var_96', 'f001_var_97', 'f001_var_98', 'f001_var_99']}\n"
     ]
    }
   ],
   "source": [
    "configs = load_configs('../configs/c009.yml')"
   ]
  },
  {
   "cell_type": "code",
   "execution_count": 5,
   "metadata": {},
   "outputs": [
    {
     "name": "stdout",
     "output_type": "stream",
     "text": [
      "[load_features] start\n",
      "now loading features ... \n",
      "loading from ../mnt/inputs/features/f001_var_100.pkl.gz ...\n",
      "loading from ../mnt/inputs/features/ID_code.pkl.gz ...\n",
      "loading from ../mnt/inputs/features/f001_var_1.pkl.gz ...\n",
      "loading from ../mnt/inputs/features/f001_var_108.pkl.gz ...\n",
      "loading from ../mnt/inputs/features/f001_var_102.pkl.gz ...\n",
      "loading from ../mnt/inputs/features/f001_var_104.pkl.gz ...\n",
      "loading from ../mnt/inputs/features/f001_var_106.pkl.gz ...\n",
      "loading from ../mnt/inputs/features/f001_var_119.pkl.gz ...\n",
      "loading from ../mnt/inputs/features/f001_var_120.pkl.gz ...\n",
      "loading from ../mnt/inputs/features/f001_var_11.pkl.gz ...\n",
      "loading from ../mnt/inputs/features/f001_var_122.pkl.gz ...\n",
      "loading from ../mnt/inputs/features/f001_var_124.pkl.gz ...\n",
      "loading from ../mnt/inputs/features/f001_var_128.pkl.gz ...\n",
      "loading from ../mnt/inputs/features/f001_var_126.pkl.gz ...\n",
      "loading from ../mnt/inputs/features/f001_var_131.pkl.gz ...\n",
      "loading from ../mnt/inputs/features/f001_var_13.pkl.gz ...\n",
      "loading from ../mnt/inputs/features/f001_var_133.pkl.gz ...\n",
      "loading from ../mnt/inputs/features/f001_var_135.pkl.gz ...\n",
      "loading from ../mnt/inputs/features/f001_var_137.pkl.gz ...\n",
      "loading from ../mnt/inputs/features/f001_var_139.pkl.gz ...\n",
      "loading from ../mnt/inputs/features/f001_var_142.pkl.gz ...\n",
      "loading from ../mnt/inputs/features/f001_var_140.pkl.gz ...\n",
      "loading from ../mnt/inputs/features/f001_var_144.pkl.gz ...\n",
      "loading from ../mnt/inputs/features/f001_var_148.pkl.gz ...\n",
      "loading from ../mnt/inputs/features/f001_var_146.pkl.gz ...\n",
      "loading from ../mnt/inputs/features/f001_var_15.pkl.gz ...\n",
      "loading from ../mnt/inputs/features/f001_var_151.pkl.gz ...\n",
      "loading from ../mnt/inputs/features/f001_var_153.pkl.gz ...\n",
      "loading from ../mnt/inputs/features/f001_var_111.pkl.gz ...\n",
      "loading from ../mnt/inputs/features/f001_var_113.pkl.gz ...\n",
      "loading from ../mnt/inputs/features/f001_var_117.pkl.gz ...\n",
      "loading from ../mnt/inputs/features/f001_var_107.pkl.gz ...\n",
      "loading from ../mnt/inputs/features/f001_var_105.pkl.gz ...\n",
      "loading from ../mnt/inputs/features/f001_var_110.pkl.gz ...\n",
      "loading from ../mnt/inputs/features/f001_var_125.pkl.gz ...\n",
      "loading from ../mnt/inputs/features/f001_var_130.pkl.gz ...\n",
      "loading from ../mnt/inputs/features/f001_var_101.pkl.gz ...\n",
      "loading from ../mnt/inputs/features/f001_var_103.pkl.gz ...\n",
      "loading from ../mnt/inputs/features/f001_var_138.pkl.gz ...\n",
      "loading from ../mnt/inputs/features/f001_var_10.pkl.gz ...\n",
      "loading from ../mnt/inputs/features/f001_var_121.pkl.gz ...\n",
      "loading from ../mnt/inputs/features/f001_var_152.pkl.gz ...\n",
      "loading from ../mnt/inputs/features/f001_var_14.pkl.gz ...\n",
      "loading from ../mnt/inputs/features/f001_var_132.pkl.gz ...\n",
      "loading from ../mnt/inputs/features/f001_var_109.pkl.gz ...\n",
      "loading from ../mnt/inputs/features/f001_var_149.pkl.gz ...\n",
      "loading from ../mnt/inputs/features/f001_var_115.pkl.gz ...\n",
      "loading from ../mnt/inputs/features/f001_var_12.pkl.gz ...\n",
      "loading from ../mnt/inputs/features/f001_var_134.pkl.gz ...\n",
      "loading from ../mnt/inputs/features/f001_var_129.pkl.gz ...\n",
      "loading from ../mnt/inputs/features/f001_var_147.pkl.gz ...\n",
      "loading from ../mnt/inputs/features/f001_var_136.pkl.gz ...\n",
      "loading from ../mnt/inputs/features/f001_var_141.pkl.gz ...\n",
      "loading from ../mnt/inputs/features/f001_var_150.pkl.gz ...\n",
      "loading from ../mnt/inputs/features/f001_var_143.pkl.gz ...\n",
      "loading from ../mnt/inputs/features/f001_var_123.pkl.gz ...\n",
      "loading from ../mnt/inputs/features/f001_var_154.pkl.gz ...\n",
      "loading from ../mnt/inputs/features/f001_var_145.pkl.gz ...\n",
      "loading from ../mnt/inputs/features/f001_var_127.pkl.gz ...\n",
      "loading from ../mnt/inputs/features/f001_var_114.pkl.gz ...\n",
      "loading from ../mnt/inputs/features/f001_var_112.pkl.gz ...\n",
      "loading from ../mnt/inputs/features/f001_var_0.pkl.gz ...\n",
      "loading from ../mnt/inputs/features/f001_var_118.pkl.gz ...\n",
      "loading from ../mnt/inputs/features/f001_var_116.pkl.gz ...\n",
      "loading from ../mnt/inputs/features/f001_var_155.pkl.gz ...\n",
      "loading from ../mnt/inputs/features/f001_var_157.pkl.gz ...\n",
      "loading from ../mnt/inputs/features/f001_var_159.pkl.gz ...\n",
      "loading from ../mnt/inputs/features/f001_var_156.pkl.gz ...\n",
      "loading from ../mnt/inputs/features/f001_var_160.pkl.gz ...\n",
      "loading from ../mnt/inputs/features/f001_var_158.pkl.gz ...\n",
      "loading from ../mnt/inputs/features/f001_var_16.pkl.gz ...\n",
      "loading from ../mnt/inputs/features/f001_var_162.pkl.gz ...\n",
      "loading from ../mnt/inputs/features/f001_var_161.pkl.gz ...\n",
      "loading from ../mnt/inputs/features/f001_var_164.pkl.gz ...\n",
      "loading from ../mnt/inputs/features/f001_var_163.pkl.gz ...\n",
      "loading from ../mnt/inputs/features/f001_var_166.pkl.gz ...\n",
      "loading from ../mnt/inputs/features/f001_var_165.pkl.gz ...\n",
      "loading from ../mnt/inputs/features/f001_var_168.pkl.gz ...\n",
      "loading from ../mnt/inputs/features/f001_var_167.pkl.gz ...\n",
      "loading from ../mnt/inputs/features/f001_var_17.pkl.gz ...\n",
      "loading from ../mnt/inputs/features/f001_var_169.pkl.gz ...\n",
      "loading from ../mnt/inputs/features/f001_var_171.pkl.gz ...\n",
      "loading from ../mnt/inputs/features/f001_var_170.pkl.gz ...\n",
      "loading from ../mnt/inputs/features/f001_var_173.pkl.gz ...\n",
      "loading from ../mnt/inputs/features/f001_var_172.pkl.gz ...\n",
      "loading from ../mnt/inputs/features/f001_var_175.pkl.gz ...\n",
      "loading from ../mnt/inputs/features/f001_var_177.pkl.gz ...\n",
      "loading from ../mnt/inputs/features/f001_var_174.pkl.gz ...\n",
      "loading from ../mnt/inputs/features/f001_var_179.pkl.gz ...\n",
      "loading from ../mnt/inputs/features/f001_var_176.pkl.gz ...\n",
      "loading from ../mnt/inputs/features/f001_var_180.pkl.gz ...\n",
      "loading from ../mnt/inputs/features/f001_var_178.pkl.gz ...\n",
      "loading from ../mnt/inputs/features/f001_var_182.pkl.gz ...\n",
      "loading from ../mnt/inputs/features/f001_var_18.pkl.gz ...\n",
      "loading from ../mnt/inputs/features/f001_var_184.pkl.gz ...\n",
      "loading from ../mnt/inputs/features/f001_var_181.pkl.gz ...\n",
      "loading from ../mnt/inputs/features/f001_var_186.pkl.gz ...\n",
      "loading from ../mnt/inputs/features/f001_var_183.pkl.gz ...\n",
      "loading from ../mnt/inputs/features/f001_var_188.pkl.gz ...\n",
      "loading from ../mnt/inputs/features/f001_var_185.pkl.gz ...\n",
      "loading from ../mnt/inputs/features/f001_var_187.pkl.gz ...\n",
      "loading from ../mnt/inputs/features/f001_var_19.pkl.gz ...\n",
      "loading from ../mnt/inputs/features/f001_var_189.pkl.gz ...\n",
      "loading from ../mnt/inputs/features/f001_var_191.pkl.gz ...\n",
      "loading from ../mnt/inputs/features/f001_var_190.pkl.gz ...\n",
      "loading from ../mnt/inputs/features/f001_var_193.pkl.gz ...\n",
      "loading from ../mnt/inputs/features/f001_var_192.pkl.gz ...\n",
      "loading from ../mnt/inputs/features/f001_var_195.pkl.gz ...\n",
      "loading from ../mnt/inputs/features/f001_var_197.pkl.gz ...\n",
      "loading from ../mnt/inputs/features/f001_var_194.pkl.gz ...\n",
      "loading from ../mnt/inputs/features/f001_var_196.pkl.gz ...\n",
      "loading from ../mnt/inputs/features/f001_var_199.pkl.gz ...\n",
      "loading from ../mnt/inputs/features/f001_var_20.pkl.gz ...\n",
      "loading from ../mnt/inputs/features/f001_var_198.pkl.gz ...\n",
      "loading from ../mnt/inputs/features/f001_var_22.pkl.gz ...\n",
      "loading from ../mnt/inputs/features/f001_var_2.pkl.gz ...\n",
      "loading from ../mnt/inputs/features/f001_var_24.pkl.gz ...\n",
      "loading from ../mnt/inputs/features/f001_var_21.pkl.gz ...\n",
      "loading from ../mnt/inputs/features/f001_var_23.pkl.gz ...\n",
      "loading from ../mnt/inputs/features/f001_var_26.pkl.gz ...\n",
      "loading from ../mnt/inputs/features/f001_var_28.pkl.gz ...\n",
      "loading from ../mnt/inputs/features/f001_var_25.pkl.gz ...\n",
      "loading from ../mnt/inputs/features/f001_var_3.pkl.gz ...\n",
      "loading from ../mnt/inputs/features/f001_var_27.pkl.gz ...\n",
      "loading from ../mnt/inputs/features/f001_var_29.pkl.gz ...\n",
      "loading from ../mnt/inputs/features/f001_var_31.pkl.gz ...\n",
      "loading from ../mnt/inputs/features/f001_var_33.pkl.gz ...\n",
      "loading from ../mnt/inputs/features/f001_var_30.pkl.gz ...\n",
      "loading from ../mnt/inputs/features/f001_var_35.pkl.gz ...\n",
      "loading from ../mnt/inputs/features/f001_var_32.pkl.gz ...\n",
      "loading from ../mnt/inputs/features/f001_var_37.pkl.gz ...\n",
      "loading from ../mnt/inputs/features/f001_var_34.pkl.gz ...\n",
      "loading from ../mnt/inputs/features/f001_var_36.pkl.gz ...\n",
      "loading from ../mnt/inputs/features/f001_var_39.pkl.gz ...\n",
      "loading from ../mnt/inputs/features/f001_var_38.pkl.gz ...\n",
      "loading from ../mnt/inputs/features/f001_var_4.pkl.gz ...\n",
      "loading from ../mnt/inputs/features/f001_var_41.pkl.gz ...\n"
     ]
    },
    {
     "name": "stdout",
     "output_type": "stream",
     "text": [
      "loading from ../mnt/inputs/features/f001_var_40.pkl.gz ...\n",
      "loading from ../mnt/inputs/features/f001_var_42.pkl.gz ...\n",
      "loading from ../mnt/inputs/features/f001_var_44.pkl.gz ...\n",
      "loading from ../mnt/inputs/features/f001_var_43.pkl.gz ...\n",
      "loading from ../mnt/inputs/features/f001_var_46.pkl.gz ...\n",
      "loading from ../mnt/inputs/features/f001_var_45.pkl.gz ...\n",
      "loading from ../mnt/inputs/features/f001_var_48.pkl.gz ...\n",
      "loading from ../mnt/inputs/features/f001_var_47.pkl.gz ...\n",
      "loading from ../mnt/inputs/features/f001_var_5.pkl.gz ...\n",
      "loading from ../mnt/inputs/features/f001_var_51.pkl.gz ...\n",
      "loading from ../mnt/inputs/features/f001_var_49.pkl.gz ...\n",
      "loading from ../mnt/inputs/features/f001_var_53.pkl.gz ...\n",
      "loading from ../mnt/inputs/features/f001_var_50.pkl.gz ...\n",
      "loading from ../mnt/inputs/features/f001_var_55.pkl.gz ...\n",
      "loading from ../mnt/inputs/features/f001_var_52.pkl.gz ...\n",
      "loading from ../mnt/inputs/features/f001_var_54.pkl.gz ...\n",
      "loading from ../mnt/inputs/features/f001_var_57.pkl.gz ...\n",
      "loading from ../mnt/inputs/features/f001_var_59.pkl.gz ...\n",
      "loading from ../mnt/inputs/features/f001_var_56.pkl.gz ...\n",
      "loading from ../mnt/inputs/features/f001_var_58.pkl.gz ...\n",
      "loading from ../mnt/inputs/features/f001_var_60.pkl.gz ...\n",
      "loading from ../mnt/inputs/features/f001_var_6.pkl.gz ...\n",
      "loading from ../mnt/inputs/features/f001_var_62.pkl.gz ...\n",
      "loading from ../mnt/inputs/features/f001_var_61.pkl.gz ...\n",
      "loading from ../mnt/inputs/features/f001_var_64.pkl.gz ...\n",
      "loading from ../mnt/inputs/features/f001_var_63.pkl.gz ...\n",
      "loading from ../mnt/inputs/features/f001_var_66.pkl.gz ...\n",
      "loading from ../mnt/inputs/features/f001_var_65.pkl.gz ...\n",
      "loading from ../mnt/inputs/features/f001_var_68.pkl.gz ...\n",
      "loading from ../mnt/inputs/features/f001_var_67.pkl.gz ...\n",
      "loading from ../mnt/inputs/features/f001_var_7.pkl.gz ...\n",
      "loading from ../mnt/inputs/features/f001_var_69.pkl.gz ...\n",
      "loading from ../mnt/inputs/features/f001_var_71.pkl.gz ...\n",
      "loading from ../mnt/inputs/features/f001_var_70.pkl.gz ...\n",
      "loading from ../mnt/inputs/features/f001_var_73.pkl.gz ...\n",
      "loading from ../mnt/inputs/features/f001_var_72.pkl.gz ...\n",
      "loading from ../mnt/inputs/features/f001_var_75.pkl.gz ...\n",
      "loading from ../mnt/inputs/features/f001_var_74.pkl.gz ...\n",
      "loading from ../mnt/inputs/features/f001_var_77.pkl.gz ...\n",
      "loading from ../mnt/inputs/features/f001_var_76.pkl.gz ...\n",
      "loading from ../mnt/inputs/features/f001_var_79.pkl.gz ...\n",
      "loading from ../mnt/inputs/features/f001_var_80.pkl.gz ...\n",
      "loading from ../mnt/inputs/features/f001_var_78.pkl.gz ...\n",
      "loading from ../mnt/inputs/features/f001_var_82.pkl.gz ...\n",
      "loading from ../mnt/inputs/features/f001_var_8.pkl.gz ...\n",
      "loading from ../mnt/inputs/features/f001_var_81.pkl.gz ...\n",
      "loading from ../mnt/inputs/features/f001_var_84.pkl.gz ...\n",
      "loading from ../mnt/inputs/features/f001_var_83.pkl.gz ...\n",
      "loading from ../mnt/inputs/features/f001_var_86.pkl.gz ...\n",
      "loading from ../mnt/inputs/features/f001_var_88.pkl.gz ...\n",
      "loading from ../mnt/inputs/features/f001_var_85.pkl.gz ...\n",
      "loading from ../mnt/inputs/features/f001_var_9.pkl.gz ...\n",
      "loading from ../mnt/inputs/features/f001_var_87.pkl.gz ...\n",
      "loading from ../mnt/inputs/features/f001_var_91.pkl.gz ...\n",
      "loading from ../mnt/inputs/features/f001_var_89.pkl.gz ...\n",
      "loading from ../mnt/inputs/features/f001_var_93.pkl.gz ...\n",
      "loading from ../mnt/inputs/features/f001_var_90.pkl.gz ...\n",
      "loading from ../mnt/inputs/features/f001_var_92.pkl.gz ...\n",
      "loading from ../mnt/inputs/features/f001_var_95.pkl.gz ...\n",
      "loading from ../mnt/inputs/features/f001_var_94.pkl.gz ...\n",
      "loading from ../mnt/inputs/features/f001_var_97.pkl.gz ...\n",
      "loading from ../mnt/inputs/features/f001_var_96.pkl.gz ...\n",
      "loading from ../mnt/inputs/features/f001_var_99.pkl.gz ...\n",
      "loading from ../mnt/inputs/features/f001_var_98.pkl.gz ...\n",
      "now concatenating the loaded features ... \n",
      "[load_features] done in 2.8 s\n"
     ]
    },
    {
     "data": {
      "text/html": [
       "<div>\n",
       "<style scoped>\n",
       "    .dataframe tbody tr th:only-of-type {\n",
       "        vertical-align: middle;\n",
       "    }\n",
       "\n",
       "    .dataframe tbody tr th {\n",
       "        vertical-align: top;\n",
       "    }\n",
       "\n",
       "    .dataframe thead th {\n",
       "        text-align: right;\n",
       "    }\n",
       "</style>\n",
       "<table border=\"1\" class=\"dataframe\">\n",
       "  <thead>\n",
       "    <tr style=\"text-align: right;\">\n",
       "      <th></th>\n",
       "      <th>ID_code</th>\n",
       "      <th>f001_var_0</th>\n",
       "      <th>f001_var_1</th>\n",
       "      <th>f001_var_10</th>\n",
       "      <th>f001_var_100</th>\n",
       "      <th>f001_var_101</th>\n",
       "      <th>f001_var_102</th>\n",
       "      <th>f001_var_103</th>\n",
       "      <th>f001_var_104</th>\n",
       "      <th>f001_var_105</th>\n",
       "      <th>...</th>\n",
       "      <th>f001_var_90</th>\n",
       "      <th>f001_var_91</th>\n",
       "      <th>f001_var_92</th>\n",
       "      <th>f001_var_93</th>\n",
       "      <th>f001_var_94</th>\n",
       "      <th>f001_var_95</th>\n",
       "      <th>f001_var_96</th>\n",
       "      <th>f001_var_97</th>\n",
       "      <th>f001_var_98</th>\n",
       "      <th>f001_var_99</th>\n",
       "    </tr>\n",
       "  </thead>\n",
       "  <tbody>\n",
       "    <tr>\n",
       "      <th>0</th>\n",
       "      <td>train_0</td>\n",
       "      <td>8.9255</td>\n",
       "      <td>-6.7863</td>\n",
       "      <td>2.9252</td>\n",
       "      <td>9.4763</td>\n",
       "      <td>13.3102</td>\n",
       "      <td>26.5376</td>\n",
       "      <td>1.4403</td>\n",
       "      <td>14.7100</td>\n",
       "      <td>6.0454</td>\n",
       "      <td>...</td>\n",
       "      <td>-21.4494</td>\n",
       "      <td>6.7806</td>\n",
       "      <td>11.0924</td>\n",
       "      <td>9.9913</td>\n",
       "      <td>14.8421</td>\n",
       "      <td>0.1812</td>\n",
       "      <td>8.9642</td>\n",
       "      <td>16.2572</td>\n",
       "      <td>2.1743</td>\n",
       "      <td>-3.4132</td>\n",
       "    </tr>\n",
       "    <tr>\n",
       "      <th>1</th>\n",
       "      <td>train_1</td>\n",
       "      <td>11.5006</td>\n",
       "      <td>-4.1473</td>\n",
       "      <td>-0.4032</td>\n",
       "      <td>-13.6950</td>\n",
       "      <td>8.4068</td>\n",
       "      <td>35.4734</td>\n",
       "      <td>1.7093</td>\n",
       "      <td>15.1866</td>\n",
       "      <td>2.6227</td>\n",
       "      <td>...</td>\n",
       "      <td>0.4768</td>\n",
       "      <td>6.8852</td>\n",
       "      <td>8.0905</td>\n",
       "      <td>10.9631</td>\n",
       "      <td>11.7569</td>\n",
       "      <td>-1.2722</td>\n",
       "      <td>24.7876</td>\n",
       "      <td>26.6881</td>\n",
       "      <td>1.8944</td>\n",
       "      <td>0.6939</td>\n",
       "    </tr>\n",
       "    <tr>\n",
       "      <th>2</th>\n",
       "      <td>train_2</td>\n",
       "      <td>8.6093</td>\n",
       "      <td>-2.7457</td>\n",
       "      <td>-0.3249</td>\n",
       "      <td>-0.3939</td>\n",
       "      <td>12.6317</td>\n",
       "      <td>14.8863</td>\n",
       "      <td>1.3854</td>\n",
       "      <td>15.0284</td>\n",
       "      <td>3.9995</td>\n",
       "      <td>...</td>\n",
       "      <td>-22.4038</td>\n",
       "      <td>7.0883</td>\n",
       "      <td>14.1613</td>\n",
       "      <td>10.5080</td>\n",
       "      <td>14.2621</td>\n",
       "      <td>0.2647</td>\n",
       "      <td>20.4031</td>\n",
       "      <td>17.0360</td>\n",
       "      <td>1.6981</td>\n",
       "      <td>-0.0269</td>\n",
       "    </tr>\n",
       "    <tr>\n",
       "      <th>3</th>\n",
       "      <td>train_3</td>\n",
       "      <td>11.0604</td>\n",
       "      <td>-2.1518</td>\n",
       "      <td>2.3061</td>\n",
       "      <td>-19.8592</td>\n",
       "      <td>22.5316</td>\n",
       "      <td>18.6129</td>\n",
       "      <td>1.3512</td>\n",
       "      <td>9.3291</td>\n",
       "      <td>4.2835</td>\n",
       "      <td>...</td>\n",
       "      <td>-7.5866</td>\n",
       "      <td>7.0364</td>\n",
       "      <td>14.4027</td>\n",
       "      <td>10.7795</td>\n",
       "      <td>7.2887</td>\n",
       "      <td>-1.0930</td>\n",
       "      <td>11.3596</td>\n",
       "      <td>18.1486</td>\n",
       "      <td>2.8344</td>\n",
       "      <td>1.9480</td>\n",
       "    </tr>\n",
       "    <tr>\n",
       "      <th>4</th>\n",
       "      <td>train_4</td>\n",
       "      <td>9.8369</td>\n",
       "      <td>-1.4834</td>\n",
       "      <td>-9.4458</td>\n",
       "      <td>-22.9264</td>\n",
       "      <td>12.3562</td>\n",
       "      <td>17.3410</td>\n",
       "      <td>1.6940</td>\n",
       "      <td>7.1179</td>\n",
       "      <td>5.1934</td>\n",
       "      <td>...</td>\n",
       "      <td>-39.7997</td>\n",
       "      <td>7.0065</td>\n",
       "      <td>9.3627</td>\n",
       "      <td>10.4316</td>\n",
       "      <td>14.0553</td>\n",
       "      <td>0.0213</td>\n",
       "      <td>14.7246</td>\n",
       "      <td>35.2988</td>\n",
       "      <td>1.6844</td>\n",
       "      <td>0.6715</td>\n",
       "    </tr>\n",
       "  </tbody>\n",
       "</table>\n",
       "<p>5 rows × 201 columns</p>\n",
       "</div>"
      ],
      "text/plain": [
       "   ID_code  f001_var_0  f001_var_1  f001_var_10  f001_var_100  f001_var_101  \\\n",
       "0  train_0      8.9255     -6.7863       2.9252        9.4763       13.3102   \n",
       "1  train_1     11.5006     -4.1473      -0.4032      -13.6950        8.4068   \n",
       "2  train_2      8.6093     -2.7457      -0.3249       -0.3939       12.6317   \n",
       "3  train_3     11.0604     -2.1518       2.3061      -19.8592       22.5316   \n",
       "4  train_4      9.8369     -1.4834      -9.4458      -22.9264       12.3562   \n",
       "\n",
       "   f001_var_102  f001_var_103  f001_var_104  f001_var_105     ...       \\\n",
       "0       26.5376        1.4403       14.7100        6.0454     ...        \n",
       "1       35.4734        1.7093       15.1866        2.6227     ...        \n",
       "2       14.8863        1.3854       15.0284        3.9995     ...        \n",
       "3       18.6129        1.3512        9.3291        4.2835     ...        \n",
       "4       17.3410        1.6940        7.1179        5.1934     ...        \n",
       "\n",
       "   f001_var_90  f001_var_91  f001_var_92  f001_var_93  f001_var_94  \\\n",
       "0     -21.4494       6.7806      11.0924       9.9913      14.8421   \n",
       "1       0.4768       6.8852       8.0905      10.9631      11.7569   \n",
       "2     -22.4038       7.0883      14.1613      10.5080      14.2621   \n",
       "3      -7.5866       7.0364      14.4027      10.7795       7.2887   \n",
       "4     -39.7997       7.0065       9.3627      10.4316      14.0553   \n",
       "\n",
       "   f001_var_95  f001_var_96  f001_var_97  f001_var_98  f001_var_99  \n",
       "0       0.1812       8.9642      16.2572       2.1743      -3.4132  \n",
       "1      -1.2722      24.7876      26.6881       1.8944       0.6939  \n",
       "2       0.2647      20.4031      17.0360       1.6981      -0.0269  \n",
       "3      -1.0930      11.3596      18.1486       2.8344       1.9480  \n",
       "4       0.0213      14.7246      35.2988       1.6844       0.6715  \n",
       "\n",
       "[5 rows x 201 columns]"
      ]
     },
     "execution_count": 5,
     "metadata": {},
     "output_type": "execute_result"
    }
   ],
   "source": [
    "features = load_features(configs['features'], '../mnt/inputs/features/')\n",
    "features.head()"
   ]
  },
  {
   "cell_type": "markdown",
   "metadata": {},
   "source": [
    "## check the uniq nums"
   ]
  },
  {
   "cell_type": "code",
   "execution_count": null,
   "metadata": {},
   "outputs": [
    {
     "name": "stdout",
     "output_type": "stream",
     "text": [
      "ID_code: NUNIQ = 400000\n",
      "f001_var_0: NUNIQ = 109897\n",
      "f001_var_1: NUNIQ = 130006\n",
      "f001_var_10: NUNIQ = 161199\n",
      "f001_var_100: NUNIQ = 199042\n",
      "f001_var_101: NUNIQ = 150340\n",
      "f001_var_102: NUNIQ = 191504\n",
      "f001_var_103: NUNIQ = 9634\n",
      "f001_var_104: NUNIQ = 80723\n",
      "f001_var_105: NUNIQ = 41781\n",
      "f001_var_106: NUNIQ = 78860\n",
      "f001_var_107: NUNIQ = 176741\n",
      "f001_var_108: NUNIQ = 8651\n",
      "f001_var_109: NUNIQ = 135029\n",
      "f001_var_11: NUNIQ = 164156\n",
      "f001_var_110: NUNIQ = 126501\n",
      "f001_var_111: NUNIQ = 49654\n",
      "f001_var_112: NUNIQ = 64989\n",
      "f001_var_113: NUNIQ = 141202\n",
      "f001_var_114: NUNIQ = 45754\n",
      "f001_var_115: NUNIQ = 98865\n",
      "f001_var_116: NUNIQ = 68886\n",
      "f001_var_117: NUNIQ = 225330\n",
      "f001_var_118: NUNIQ = 187331\n",
      "f001_var_119: NUNIQ = 134912\n",
      "f001_var_12: NUNIQ = 9737\n",
      "f001_var_120: NUNIQ = 213513\n",
      "f001_var_121: NUNIQ = 70291\n",
      "f001_var_122: NUNIQ = 149847\n",
      "f001_var_123: NUNIQ = 163473\n",
      "f001_var_124: NUNIQ = 104617\n",
      "f001_var_125: NUNIQ = 16719\n",
      "f001_var_126: NUNIQ = 33832\n",
      "f001_var_127: NUNIQ = 110689\n",
      "f001_var_128: NUNIQ = 114174\n",
      "f001_var_129: NUNIQ = 136681\n",
      "f001_var_13: NUNIQ = 139438\n",
      "f001_var_130: NUNIQ = 38626\n",
      "f001_var_131: NUNIQ = 22251\n",
      "f001_var_132: NUNIQ = 62482\n",
      "f001_var_133: NUNIQ = 20070\n",
      "f001_var_134: NUNIQ = 165640\n",
      "f001_var_135: NUNIQ = 181695\n",
      "f001_var_136: NUNIQ = 210138\n",
      "f001_var_137: NUNIQ = 188234\n",
      "f001_var_138: NUNIQ = 143406\n",
      "f001_var_139: NUNIQ = 176347\n",
      "f001_var_14: NUNIQ = 87902\n",
      "f001_var_140: NUNIQ = 149123\n",
      "f001_var_141: NUNIQ = 170913\n",
      "f001_var_142: NUNIQ = 161277\n",
      "f001_var_143: NUNIQ = 109365\n",
      "f001_var_144: NUNIQ = 42880\n",
      "f001_var_145: NUNIQ = 129375\n",
      "f001_var_146: NUNIQ = 96032\n",
      "f001_var_147: NUNIQ = 176666\n",
      "f001_var_148: NUNIQ = 10894\n",
      "f001_var_149: NUNIQ = 195597\n",
      "f001_var_15: NUNIQ = 20456\n",
      "f001_var_150: NUNIQ = 93927\n",
      "f001_var_151: NUNIQ = 130986\n",
      "f001_var_152: NUNIQ = 111057\n",
      "f001_var_153: NUNIQ = 80978\n",
      "f001_var_154: NUNIQ = 146206\n",
      "f001_var_155: NUNIQ = 159514\n",
      "f001_var_156: NUNIQ = 42711\n",
      "f001_var_157: NUNIQ = 157648\n",
      "f001_var_158: NUNIQ = 188208\n",
      "f001_var_159: NUNIQ = 135993\n",
      "f001_var_16: NUNIQ = 99063\n",
      "f001_var_160: NUNIQ = 209977\n",
      "f001_var_161: NUNIQ = 11359\n",
      "f001_var_162: NUNIQ = 62106\n",
      "f001_var_163: NUNIQ = 152547\n",
      "f001_var_164: NUNIQ = 151783\n",
      "f001_var_165: NUNIQ = 146639\n",
      "f001_var_166: NUNIQ = 18408\n",
      "f001_var_167: NUNIQ = 182132\n",
      "f001_var_168: NUNIQ = 113423\n",
      "f001_var_169: NUNIQ = 18846\n",
      "f001_var_17: NUNIQ = 176831\n",
      "f001_var_170: NUNIQ = 137589\n",
      "f001_var_171: NUNIQ = 156684\n",
      "f001_var_172: NUNIQ = 186853\n",
      "f001_var_173: NUNIQ = 160394\n",
      "f001_var_174: NUNIQ = 171675\n",
      "f001_var_175: NUNIQ = 106617\n",
      "f001_var_176: NUNIQ = 184983\n",
      "f001_var_177: NUNIQ = 96353\n",
      "f001_var_178: NUNIQ = 189513\n",
      "f001_var_179: NUNIQ = 104157\n",
      "f001_var_18: NUNIQ = 179632\n",
      "f001_var_180: NUNIQ = 152618\n",
      "f001_var_181: NUNIQ = 61136\n",
      "f001_var_182: NUNIQ = 196629\n",
      "f001_var_183: NUNIQ = 142875\n",
      "f001_var_184: NUNIQ = 189591\n",
      "f001_var_185: NUNIQ = 148076\n",
      "f001_var_186: NUNIQ = 114414\n",
      "f001_var_187: NUNIQ = 211266\n",
      "f001_var_188: NUNIQ = 129661\n",
      "f001_var_189: NUNIQ = 43938\n",
      "f001_var_19: NUNIQ = 187485\n",
      "f001_var_190: NUNIQ = 139601\n",
      "f001_var_191: NUNIQ = 109159\n",
      "f001_var_192: NUNIQ = 64383\n",
      "f001_var_193: NUNIQ = 132689\n",
      "f001_var_194: NUNIQ = 112278\n",
      "f001_var_195: NUNIQ = 62852\n",
      "f001_var_196: NUNIQ = 155546\n",
      "f001_var_197: NUNIQ = 43049\n",
      "f001_var_198: NUNIQ = 109176\n",
      "f001_var_199: NUNIQ = 197317\n",
      "f001_var_2: NUNIQ = 98770\n",
      "f001_var_20: NUNIQ = 159515\n",
      "f001_var_21: NUNIQ = 180743\n",
      "f001_var_22: NUNIQ = 104213\n",
      "f001_var_23: NUNIQ = 25982\n",
      "f001_var_24: NUNIQ = 124050\n",
      "f001_var_25: NUNIQ = 15348\n",
      "f001_var_26: NUNIQ = 158933\n",
      "f001_var_27: NUNIQ = 64803\n",
      "f001_var_28: NUNIQ = 37923\n",
      "f001_var_29: NUNIQ = 101061\n",
      "f001_var_3: NUNIQ = 82683\n",
      "f001_var_30: NUNIQ = 190176\n",
      "f001_var_31: NUNIQ = 86666\n",
      "f001_var_32: NUNIQ = 97070\n",
      "f001_var_33: NUNIQ = 134923\n",
      "f001_var_34: NUNIQ = 26159\n",
      "f001_var_35: NUNIQ = 151114\n",
      "f001_var_36: NUNIQ = 112088\n",
      "f001_var_37: NUNIQ = 88044\n",
      "f001_var_38: NUNIQ = 140039\n",
      "f001_var_39: NUNIQ = 135595\n",
      "f001_var_4: NUNIQ = 68881\n",
      "f001_var_40: NUNIQ = 183727\n",
      "f001_var_41: NUNIQ = 166074\n",
      "f001_var_42: NUNIQ = 33148\n",
      "f001_var_43: NUNIQ = 15589\n",
      "f001_var_44: NUNIQ = 159990\n",
      "f001_var_45: NUNIQ = 236483\n",
      "f001_var_46: NUNIQ = 107970\n",
      "f001_var_47: NUNIQ = 206827\n",
      "f001_var_48: NUNIQ = 202002\n",
      "f001_var_49: NUNIQ = 181502\n",
      "f001_var_5: NUNIQ = 182247\n",
      "f001_var_50: NUNIQ = 33910\n",
      "f001_var_51: NUNIQ = 186422\n",
      "f001_var_52: NUNIQ = 149503\n",
      "f001_var_53: NUNIQ = 35047\n",
      "f001_var_54: NUNIQ = 188974\n",
      "f001_var_55: NUNIQ = 160031\n",
      "f001_var_56: NUNIQ = 121547\n",
      "f001_var_57: NUNIQ = 37418\n",
      "f001_var_58: NUNIQ = 137828\n",
      "f001_var_59: NUNIQ = 39579\n",
      "f001_var_6: NUNIQ = 40882\n",
      "f001_var_60: NUNIQ = 137503\n",
      "f001_var_61: NUNIQ = 215161\n",
      "f001_var_62: NUNIQ = 83636\n",
      "f001_var_63: NUNIQ = 112727\n",
      "f001_var_64: NUNIQ = 64227\n",
      "f001_var_65: NUNIQ = 129079\n",
      "f001_var_66: NUNIQ = 51090\n",
      "f001_var_67: NUNIQ = 175827\n",
      "f001_var_68: NUNIQ = 461\n",
      "f001_var_69: NUNIQ = 131934\n",
      "f001_var_7: NUNIQ = 120784\n",
      "f001_var_70: NUNIQ = 203868\n",
      "f001_var_71: NUNIQ = 13968\n",
      "f001_var_72: NUNIQ = 131714\n",
      "f001_var_73: NUNIQ = 184446\n",
      "f001_var_74: NUNIQ = 218964\n",
      "f001_var_75: NUNIQ = 162361\n",
      "f001_var_76: NUNIQ = 179698\n",
      "f001_var_77: NUNIQ = 126114\n",
      "f001_var_78: NUNIQ = 79492\n",
      "f001_var_79: NUNIQ = 56828\n",
      "f001_var_8: NUNIQ = 114347\n",
      "f001_var_80: NUNIQ = 174367\n",
      "f001_var_81: NUNIQ = 89038\n",
      "f001_var_82: NUNIQ = 188845\n",
      "f001_var_83: NUNIQ = 187823\n",
      "f001_var_84: NUNIQ = 169368\n",
      "f001_var_85: NUNIQ = 128759\n",
      "f001_var_86: NUNIQ = 181915\n",
      "f001_var_87: NUNIQ = 156025\n",
      "f001_var_88: NUNIQ = 96301\n",
      "f001_var_89: NUNIQ = 122361\n",
      "f001_var_9: NUNIQ = 52361\n",
      "f001_var_90: NUNIQ = 211717\n",
      "f001_var_91: NUNIQ = 8197\n",
      "f001_var_92: NUNIQ = 132946\n",
      "f001_var_93: NUNIQ = 28147\n",
      "f001_var_94: NUNIQ = 101490\n",
      "f001_var_95: NUNIQ = 30656\n",
      "f001_var_96: NUNIQ = 194549\n",
      "f001_var_97: NUNIQ = 214242\n",
      "f001_var_98: NUNIQ = 34913\n",
      "f001_var_99: NUNIQ = 76630\n"
     ]
    }
   ],
   "source": [
    "# print uniq num\n",
    "for col in features.columns:\n",
    "    print(f'{col}: NUNIQ = {features[col].nunique()}')"
   ]
  },
  {
   "cell_type": "code",
   "execution_count": null,
   "metadata": {},
   "outputs": [
    {
     "data": {
      "application/vnd.jupyter.widget-view+json": {
       "model_id": "70e18c426266426d8972be92bbdca02c",
       "version_major": 2,
       "version_minor": 0
      },
      "text/plain": [
       "HBox(children=(IntProgress(value=0, max=201), HTML(value='')))"
      ]
     },
     "metadata": {},
     "output_type": "display_data"
    },
    {
     "data": {
      "application/vnd.jupyter.widget-view+json": {
       "model_id": "e7ef6eab9d5444b58c3202f65ae098f8",
       "version_major": 2,
       "version_minor": 0
      },
      "text/plain": [
       "HBox(children=(IntProgress(value=0, max=201), HTML(value='')))"
      ]
     },
     "metadata": {},
     "output_type": "display_data"
    },
    {
     "data": {
      "application/vnd.jupyter.widget-view+json": {
       "model_id": "f2a6dbd0463746d4a9146e1d69e7b0a1",
       "version_major": 2,
       "version_minor": 0
      },
      "text/plain": [
       "HBox(children=(IntProgress(value=0, max=201), HTML(value='')))"
      ]
     },
     "metadata": {},
     "output_type": "display_data"
    },
    {
     "data": {
      "application/vnd.jupyter.widget-view+json": {
       "model_id": "14505f23bf07478bb2b8770a09ec08d3",
       "version_major": 2,
       "version_minor": 0
      },
      "text/plain": [
       "HBox(children=(IntProgress(value=0, max=201), HTML(value='')))"
      ]
     },
     "metadata": {},
     "output_type": "display_data"
    },
    {
     "data": {
      "application/vnd.jupyter.widget-view+json": {
       "model_id": "707f192d43db474a8c646455181adcd2",
       "version_major": 2,
       "version_minor": 0
      },
      "text/plain": [
       "HBox(children=(IntProgress(value=0, max=201), HTML(value='')))"
      ]
     },
     "metadata": {},
     "output_type": "display_data"
    },
    {
     "data": {
      "application/vnd.jupyter.widget-view+json": {
       "model_id": "0eb3e4b1b8b44f43a4efe886512533ec",
       "version_major": 2,
       "version_minor": 0
      },
      "text/plain": [
       "HBox(children=(IntProgress(value=0, max=201), HTML(value='')))"
      ]
     },
     "metadata": {},
     "output_type": "display_data"
    },
    {
     "data": {
      "application/vnd.jupyter.widget-view+json": {
       "model_id": "bb46fc292dab4ebfa91669bc8259aee1",
       "version_major": 2,
       "version_minor": 0
      },
      "text/plain": [
       "HBox(children=(IntProgress(value=0, max=201), HTML(value='')))"
      ]
     },
     "metadata": {},
     "output_type": "display_data"
    },
    {
     "data": {
      "application/vnd.jupyter.widget-view+json": {
       "model_id": "d84bd76b83bc45bc9705f578c096207e",
       "version_major": 2,
       "version_minor": 0
      },
      "text/plain": [
       "HBox(children=(IntProgress(value=0, max=201), HTML(value='')))"
      ]
     },
     "metadata": {},
     "output_type": "display_data"
    },
    {
     "data": {
      "application/vnd.jupyter.widget-view+json": {
       "model_id": "12b95765c91647eea581c47b523e24de",
       "version_major": 2,
       "version_minor": 0
      },
      "text/plain": [
       "HBox(children=(IntProgress(value=0, max=201), HTML(value='')))"
      ]
     },
     "metadata": {},
     "output_type": "display_data"
    },
    {
     "data": {
      "application/vnd.jupyter.widget-view+json": {
       "model_id": "dbcdfddb25b141819342a195241fbd27",
       "version_major": 2,
       "version_minor": 0
      },
      "text/plain": [
       "HBox(children=(IntProgress(value=0, max=201), HTML(value='')))"
      ]
     },
     "metadata": {},
     "output_type": "display_data"
    },
    {
     "data": {
      "application/vnd.jupyter.widget-view+json": {
       "model_id": "34e63fc35acb461580d97424e76524db",
       "version_major": 2,
       "version_minor": 0
      },
      "text/plain": [
       "HBox(children=(IntProgress(value=0, max=201), HTML(value='')))"
      ]
     },
     "metadata": {},
     "output_type": "display_data"
    },
    {
     "data": {
      "application/vnd.jupyter.widget-view+json": {
       "model_id": "ce7614429e6a46f7ba434a300d476429",
       "version_major": 2,
       "version_minor": 0
      },
      "text/plain": [
       "HBox(children=(IntProgress(value=0, max=201), HTML(value='')))"
      ]
     },
     "metadata": {},
     "output_type": "display_data"
    },
    {
     "data": {
      "application/vnd.jupyter.widget-view+json": {
       "model_id": "d7885c8bc4214bca8c483f54c37e8952",
       "version_major": 2,
       "version_minor": 0
      },
      "text/plain": [
       "HBox(children=(IntProgress(value=0, max=201), HTML(value='')))"
      ]
     },
     "metadata": {},
     "output_type": "display_data"
    }
   ],
   "source": [
    "# check the duplicate nums\n",
    "rowwise_dup_kinds_ratio_matlix = []\n",
    "\n",
    "for row_col in tqdm(features.columns):\n",
    "    row_dup_kinds_ratio_matlix = []\n",
    "    for col_col in tqdm(features.columns):\n",
    "        row_dup_kinds_ratio_matlix.append(len(set(features[row_col].unique()) & set(features[col_col].unique())) / features[col_col].nunique())\n",
    "    rowwise_dup_kinds_ratio_matlix.append(row_dup_kinds_ratio_matlix)\n",
    "rowwise_dup_kinds_ratio_matlix    "
   ]
  },
  {
   "cell_type": "code",
   "execution_count": null,
   "metadata": {},
   "outputs": [],
   "source": [
    "with open('../mnt/inputs/utils/rowwise_dup_kinds_ratio_matlix1.pkl', 'wb') as fout:\n",
    "    pickle(rowwise_dup_kinds_ratio_matlix, fout)"
   ]
  }
 ],
 "metadata": {
  "kernelspec": {
   "display_name": "Python 3",
   "language": "python",
   "name": "python3"
  },
  "language_info": {
   "codemirror_mode": {
    "name": "ipython",
    "version": 3
   },
   "file_extension": ".py",
   "mimetype": "text/x-python",
   "name": "python",
   "nbconvert_exporter": "python",
   "pygments_lexer": "ipython3",
   "version": "3.7.1"
  }
 },
 "nbformat": 4,
 "nbformat_minor": 2
}

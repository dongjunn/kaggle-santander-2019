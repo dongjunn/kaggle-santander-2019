{
 "cells": [
  {
   "cell_type": "markdown",
   "metadata": {},
   "source": [
    "## make submissions using weighted rank avg based on the the oof"
   ]
  },
  {
   "cell_type": "code",
   "execution_count": 1,
   "metadata": {},
   "outputs": [],
   "source": [
    "import sys\n",
    "from tqdm import tqdm_notebook as tqdm\n",
    "\n",
    "import numpy as np\n",
    "import pandas as pd\n",
    "\n",
    "from sklearn.metrics import roc_auc_score\n",
    "\n",
    "from matplotlib import pyplot as plt\n",
    "import seaborn as sns"
   ]
  },
  {
   "cell_type": "code",
   "execution_count": 2,
   "metadata": {},
   "outputs": [
    {
     "data": {
      "text/html": [
       "<style>.container { width:90% !important; }</style>"
      ],
      "text/plain": [
       "<IPython.core.display.HTML object>"
      ]
     },
     "metadata": {},
     "output_type": "display_data"
    }
   ],
   "source": [
    "pd.set_option('display.max_columns', 500)\n",
    "pd.set_option('display.max_rows', 500)\n",
    "\n",
    "# re-load functions\n",
    "%load_ext autoreload\n",
    "%autoreload 2\n",
    "\n",
    "from IPython.core.display import display, HTML\n",
    "display(HTML(\"<style>.container { width:90% !important; }</style>\"))\n",
    "%config InlineBackend.figure_formats = {'png', 'retina'}"
   ]
  },
  {
   "cell_type": "code",
   "execution_count": null,
   "metadata": {},
   "outputs": [],
   "source": []
  },
  {
   "cell_type": "code",
   "execution_count": null,
   "metadata": {},
   "outputs": [],
   "source": []
  },
  {
   "cell_type": "markdown",
   "metadata": {},
   "source": [
    "## load models"
   ]
  },
  {
   "cell_type": "code",
   "execution_count": 3,
   "metadata": {
    "scrolled": true
   },
   "outputs": [
    {
     "name": "stdout",
     "output_type": "stream",
     "text": [
      "e091_e081_bin_change_0_10_2019-04-08-05-19-25_0.92396_oofs.csv\r\n",
      "e091_e081_bin_change_0_10_2019-04-08-05-19-25_0.92396_oofs.pkl\r\n",
      "\u001b[0m\u001b[01;31me091_e081_bin_change_0_10_2019-04-08-05-19-25_0.92396_sub.csv.gz\u001b[0m\r\n",
      "e091_e081_bin_change_0_10_2019-04-08-05-19-25_0.92396_sub_no_rank.csv\r\n",
      "nagiss_01_oof_CV_92065_LB_921.csv\r\n",
      "nagiss_01_submission_CV_92065_LB_921.csv\r\n",
      "nagiss_02_NN_oof_CV_92118.csv\r\n",
      "nagiss_02_NN_submission_CV_92118.csv\r\n",
      "oof_0.9237483.csv\r\n",
      "oof_ra_x005_lgb_F1200_06.04.2019-10_58_roc0.923686_thr0.7545646.csv\r\n",
      "sub_pa_x005_lgb_F1200_06.04.2019-10_58__0.923686_MCC0.599.csv\r\n",
      "V600_0.9237483.csv\r\n"
     ]
    }
   ],
   "source": [
    "ls ../mnt/blendings/2nd/"
   ]
  },
  {
   "cell_type": "code",
   "execution_count": 4,
   "metadata": {
    "scrolled": true
   },
   "outputs": [
    {
     "name": "stdout",
     "output_type": "stream",
     "text": [
      "e095_e081_bin_change_10_10_2019-04-09-10-09-32_0.9236_oofs.csv\r\n",
      "e095_e081_bin_change_10_10_2019-04-09-10-09-32_0.9236_oofs.pkl\r\n",
      "e095_e081_bin_change_10_10_2019-04-09-10-09-32_0.9236_sub_no_rank.csv\r\n",
      "\u001b[0m\u001b[01;31me095_e081_bin_change_10_10_2019-04-09-10-09-32_0.9236_sub_rank.csv.gz\u001b[0m\r\n",
      "exp_3_3_oof_pred.csv\r\n",
      "exp_3_3_sub.csv\r\n",
      "nagiss_01-2_lgbm_overfit_submission_rankavg_CV_92491_LB_922.csv\r\n",
      "\u001b[01;32mnagiss_02-2-2_NN_shuffle_rankavg_submission_CV_92386.csv\u001b[0m*\r\n",
      "nagiss_02-2_NN_shuffle_oof_CV_92386.csv\r\n",
      "\u001b[01;32mnagiss_02-2_NN_shuffle_submission_CV_92386.csv\u001b[0m*\r\n",
      "oof_0.9236922.csv\r\n",
      "oof_0.9237644.csv\r\n",
      "oof_0.923911.csv\r\n",
      "oof_x030_lgb_F1200_09.04.2019-15.29_auc0.922451.csv\r\n",
      "sub_pa_sub_x030_lgb_F1200_09.04.2019-15.29_CV0.922451.csv\r\n",
      "sub_ra_sub_x030_lgb_F1200_09.04.2019-15.29_CV0.922451.csv\r\n",
      "V400_0.923911_aver_rank.csv\r\n",
      "V400_0.923911.csv\r\n",
      "V600_0.9236922_aver_rank.csv\r\n",
      "V600_0.9236922.csv\r\n",
      "V600_0.9237644_aver_rank.csv\r\n",
      "V600_0.9237644.csv\r\n"
     ]
    }
   ],
   "source": [
    "ls ../mnt/blendings/3rd/"
   ]
  },
  {
   "cell_type": "code",
   "execution_count": 67,
   "metadata": {
    "scrolled": true
   },
   "outputs": [
    {
     "name": "stdout",
     "output_type": "stream",
     "text": [
      "e095_e081_bin_change_10_10_2019-04-09-10-09-32_0.9236_oofs.csv\r\n",
      "e095_e081_bin_change_10_10_2019-04-09-10-09-32_0.9236_oofs.pkl\r\n",
      "e095_e081_bin_change_10_10_2019-04-09-10-09-32_0.9236_sub_no_rank.csv\r\n",
      "\u001b[0m\u001b[01;31me095_e081_bin_change_10_10_2019-04-09-10-09-32_0.9236_sub_rank.csv.gz\u001b[0m\r\n",
      "exp_3_3_oof_pred.csv\r\n",
      "exp_3_3_sub.csv\r\n",
      "\u001b[01;32mnagiss_02-2-2_NN_shuffle_rankavg_submission_CV_92386.csv\u001b[0m*\r\n",
      "nagiss_02-2_NN_shuffle_oof_CV_92386.csv\r\n",
      "\u001b[01;32mnagiss_02-2_NN_shuffle_submission_CV_92386.csv\u001b[0m*\r\n",
      "oof_0.9236922.csv\r\n",
      "oof_0.9237644.csv\r\n",
      "oof_0.923911.csv\r\n",
      "oof_x030_lgb_F1200_09.04.2019-15.29_auc0.922451.csv\r\n",
      "sub_pa_sub_x030_lgb_F1200_09.04.2019-15.29_CV0.922451.csv\r\n",
      "sub_ra_sub_x030_lgb_F1200_09.04.2019-15.29_CV0.922451.csv\r\n",
      "V400_0.923911_aver_rank.csv\r\n",
      "V400_0.923911.csv\r\n",
      "V600_0.9236922_aver_rank.csv\r\n",
      "V600_0.9236922.csv\r\n",
      "V600_0.9237644_aver_rank.csv\r\n",
      "V600_0.9237644.csv\r\n"
     ]
    }
   ],
   "source": [
    "ls ../mnt/blendings/3rd/"
   ]
  },
  {
   "cell_type": "code",
   "execution_count": 7,
   "metadata": {
    "scrolled": true
   },
   "outputs": [
    {
     "name": "stdout",
     "output_type": "stream",
     "text": [
      "1_9_7_9_9_9_w_naggis_rank.csv\r\n",
      "\u001b[0m\u001b[01;31me001_plane_lgbm_2019-03-24-13-51-16_0.88928_sub.csv.gz\u001b[0m\r\n",
      "\u001b[01;31me002_plane_lgbm_w_kernel_params_2019-03-24-14-34-39_0.89516_sub.csv.gz\u001b[0m\r\n",
      "\u001b[01;31me003_reproduction_of_900_kernel_2019-03-24-17-10-15_0.89842_sub.csv.gz\u001b[0m\r\n",
      "\u001b[01;31me004_reproduction_of_900_kernel_w_same_params_2019-03-25-08-03-16_0.89995_sub.csv.gz\u001b[0m\u001b[K\r\n",
      "\u001b[01;31me005_e004_wo_colsample_bytree_2019-03-25-08-20-08_0.89826_sub.csv.gz\u001b[0m\r\n",
      "\u001b[01;31me006_random_augment_2019-03-25-15-48-22_0.89906_sub.csv.gz\u001b[0m\r\n",
      "\u001b[01;31me007_random_augment_raw_features_2019-03-25-18-35-53_0.89906_sub.csv.gz\u001b[0m\r\n",
      "\u001b[01;31me007_random_augment_raw_features_2019-03-26-12-50-20_0.89964_sub.csv.gz\u001b[0m\r\n",
      "\u001b[01;31me008_random_augment_os_ratio_2019-03-25-16-36-23_0.89604_sub.csv.gz\u001b[0m\r\n",
      "\u001b[01;31me009_minus_mode_pow_features_2019-03-27-13-20-44_0.90005_sub.csv.gz\u001b[0m\r\n",
      "\u001b[01;31me011_uniq_cnt_encoding_2019-03-29-03-16-09_0.90265_sub.csv.gz\u001b[0m\r\n",
      "\u001b[01;31me012_uniq_cnt_encoding_w_meta_2019-03-29-04-27-10_0.90278_sub.csv.gz\u001b[0m\r\n",
      "\u001b[01;31me013_e004_w_all_norm_2019-03-29-11-02-40_0.90023_sub.csv.gz\u001b[0m\r\n",
      "\u001b[01;31me014_uniq_mask_2019-03-29-11-42-26_0.62286_sub.csv.gz\u001b[0m\r\n",
      "\u001b[01;31me015_non_uniq_mask_2019-03-29-12-08-37_0.91728_sub.csv.gz\u001b[0m\r\n",
      "\u001b[01;31me016_only_trn_non_uniq_mask_2019-03-29-13-18-32_0.5_sub.csv.gz\u001b[0m\r\n",
      "\u001b[01;31me016_only_trn_non_uniq_mask_2019-03-29-13-27-52_0.89492_sub.csv.gz\u001b[0m\r\n",
      "\u001b[01;31me017_trn_tst_common_features_2019-03-29-14-01-09_0.84714_sub.csv.gz\u001b[0m\r\n",
      "\u001b[01;31me018_non_uniq_mask_only_using_real_2019-03-30-09-22-15_0.5_sub.csv.gz\u001b[0m\r\n",
      "\u001b[01;31me018_non_uniq_mask_only_using_real_2019-03-30-09-41-44_0.91728_sub.csv.gz\u001b[0m\r\n",
      "\u001b[01;31me019_e018_and_stats_features_2019-03-30-14-55-23_0.91693_sub.csv.gz\u001b[0m\r\n",
      "\u001b[01;31me020_e018_and_nan_cnt_2019-03-30-15-13-35_0.91708_sub.csv.gz\u001b[0m\r\n",
      "\u001b[01;31me021_filered_uniq_cnt_encoding_2019-03-30-15-40-39_0.91697_sub.csv.gz\u001b[0m\r\n",
      "\u001b[01;31me022_filtered_uniq_cnt_real_2019-03-31-04-09-25_0.91691_sub.csv.gz\u001b[0m\r\n",
      "\u001b[01;31me023_filtered_round_2019-03-31-04-29-47_0.91708_sub.csv.gz\u001b[0m\r\n",
      "\u001b[01;31me024_e018_w_fake_augmentation_2019-03-31-08-15-27_0.9073_sub.csv.gz\u001b[0m\r\n",
      "\u001b[01;31me025_filtered_plus_original_stats_2019-03-31-09-17-37_0.91714_sub.csv.gz\u001b[0m\r\n",
      "\u001b[01;31me028_2uniq_filtering_2019-03-31-10-31-09_0.84827_sub.csv.gz\u001b[0m\r\n",
      "\u001b[01;31me030_filtered_target_encoding_var68_2019-04-01-02-04-57_0.91658_sub.csv.gz\u001b[0m\r\n",
      "\u001b[01;31me032_filtered_uniq_and_non_uniq_2019-04-01-05-04-16_0.92192_sub.csv.gz\u001b[0m\r\n",
      "\u001b[01;31me033_e032_numleaves7_2019-04-01-05-25-43_0.92229_sub.csv.gz\u001b[0m\r\n",
      "\u001b[01;31me034_e033_w_2uniq_2019-04-01-16-09-01_0.92252_sub.csv.gz\u001b[0m\r\n",
      "\u001b[01;31me035_e033_w_2uniq_2019-04-01-16-28-57_0.92086_sub.csv.gz\u001b[0m\r\n",
      "\u001b[01;31me036_e034_plus_e035_2019-04-01-16-40-50_0.92275_sub.csv.gz\u001b[0m\r\n",
      "\u001b[01;31me037_e036_plus_ss_stats_2019-04-01-17-25-25_0.92135_sub.csv.gz\u001b[0m\r\n",
      "\u001b[01;31me038_e036_numleaves2_2019-04-01-17-37-02_0.92131_sub.csv.gz\u001b[0m\r\n",
      "\u001b[01;31me039_e038_numleaves2_2019-04-01-18-04-39_0.92237_sub.csv.gz\u001b[0m\r\n",
      "\u001b[01;31me040_e036_w_f012_2019-04-02-04-34-14_0.92194_sub.csv.gz\u001b[0m\r\n",
      "\u001b[01;31me041_each_cnt_raw_features_2019-04-02-09-39-25_0.91675_sub.csv.gz\u001b[0m\r\n",
      "\u001b[01;31me042_e036_w_3uniq_2019-04-02-11-12-44_0.9225_sub.csv.gz\u001b[0m\r\n",
      "\u001b[01;31me043_e036_w_4uniq_2019-04-02-12-10-15_0.92233_sub.csv.gz\u001b[0m\r\n",
      "\u001b[01;31me043_e042_w_only_less_2019-04-02-11-42-46_0.92214_sub.csv.gz\u001b[0m\r\n",
      "\u001b[01;31me044_e036_plus_common_features_2019-04-02-13-41-42_0.92194_sub.csv.gz\u001b[0m\r\n",
      "\u001b[01;31me045_e036_augmentation_2019-04-02-16-50-27_0.92054_sub.csv.gz\u001b[0m\r\n",
      "\u001b[01;31me045_e036_augmentation_2019-04-03-16-31-31_0.91972_sub.csv.gz\u001b[0m\r\n",
      "\u001b[01;31me046_e036_plus_count_encoding_2019-04-02-17-20-23_0.92254_sub.csv.gz\u001b[0m\r\n",
      "\u001b[01;31me047_e036_w_non_common_2019-04-03-05-55-01_0.92209_sub.csv.gz\u001b[0m\r\n",
      "\u001b[01;31me048_e036_plus_normal_pdf_ratio_2019-04-03-14-07-16_0.92229_sub.csv.gz\u001b[0m\r\n",
      "\u001b[01;31me050_e036_plus_normal_pdf_ratio_partial1_2019-04-03-16-20-42_0.92222_sub.csv.gz\u001b[0m\r\n",
      "\u001b[01;31me051_e036_plus_normal_pdf_ratio_partial2_2019-04-03-16-20-54_0.92217_sub.csv.gz\u001b[0m\r\n",
      "\u001b[01;31me052_e036_nagiss_feature_selection_2019-04-03-17-50-17_0.92231_sub.csv.gz\u001b[0m\r\n",
      "\u001b[01;31me053_e036_feature_selection_2019-04-03-18-08-50_0.9227_sub.csv.gz\u001b[0m\r\n",
      "\u001b[01;31me054_e036_w_numleaves2_2019-04-04-15-35-23_0.92255_sub.csv.gz\u001b[0m\r\n",
      "\u001b[01;31me056_e036_plus_e009_2019-04-04-16-48-39_0.92246_sub.csv.gz\u001b[0m\r\n",
      "\u001b[01;31me056_e036_w_pair_augmentation_2019-04-04-18-20-07_0.92327_sub.csv.gz\u001b[0m\r\n",
      "\u001b[01;31me057_e036_w_pair_augmentation_4_1_2019-04-05-04-52-14_0.9225_sub.csv.gz\u001b[0m\r\n",
      "\u001b[01;31me058_e036_w_pair_augmentation_4_2_2019-04-05-07-16-00_0.92328_sub.csv.gz\u001b[0m\r\n",
      "\u001b[01;31me059_e036_w_pair_augmentation_10_4_2019-04-05-07-47-53_0.92249_sub.csv.gz\u001b[0m\r\n",
      "\u001b[01;31me060_e036_w_pair_augmentation_20_10_2019-04-05-08-20-27_0.92265_sub.csv.gz\u001b[0m\r\n",
      "\u001b[01;31me061_e036_w_pair_augmentation_2_2_2019-04-05-11-06-52_0.92355_sub.csv.gz\u001b[0m\r\n",
      "\u001b[01;31me062_e036_w_pair_augmentation_6_3_2019-04-05-10-04-19_0.92325_sub.csv.gz\u001b[0m\r\n",
      "\u001b[01;31me063_e036_w_pair_augmentation_1_1_2019-04-05-11-35-32_0.92331_sub.csv.gz\u001b[0m\r\n",
      "\u001b[01;31me064_e036_w_pair_augmentation_3_3_2019-04-05-12-07-05_0.92366_sub.csv.gz\u001b[0m\r\n",
      "\u001b[01;31me065_e036_w_pair_augmentation_4_4_2019-04-05-12-09-40_0.92342_sub.csv.gz\u001b[0m\r\n",
      "\u001b[01;31me066_e036_w_pair_augmentation_5_5_2019-04-05-12-32-53_0.92367_sub.csv.gz\u001b[0m\r\n",
      "\u001b[01;31me067_e036_w_pair_augmentation_6_6_2019-04-05-13-08-14_0.92371_sub.csv.gz\u001b[0m\r\n",
      "\u001b[01;31me068_e036_w_pair_augmentation_10_10_2019-04-05-16-24-37_0.92361_sub.csv.gz\u001b[0m\r\n",
      "\u001b[01;31me069_e036_w_pair_augmentation_7_7_2019-04-05-13-25-51_0.92371_sub.csv.gz\u001b[0m\r\n",
      "\u001b[01;31me070_e036_w_pair_augmentation_8_8_2019-04-05-14-48-29_0.92364_sub.csv.gz\u001b[0m\r\n",
      "\u001b[01;31me070_e036_w_pair_augmentation_8_8_2019-04-05-15-42-58_0.88828_sub.csv.gz\u001b[0m\r\n",
      "\u001b[01;31me071_e036_t006_w_pair_augmentation_7_7_2019-04-05-16-14-13_0.88336_sub.csv.gz\u001b[0m\r\n",
      "\u001b[01;31me071_e036_t006_w_pair_augmentation_7_7_2019-04-05-16-14-13_0.88336_sub_no_rank.csv.gz\u001b[0m\u001b[K\r\n",
      "\u001b[01;31me071_e036_t006_w_pair_augmentation_7_7_2019-04-05-16-22-34_0.92262_sub.csv.gz\u001b[0m\r\n",
      "\u001b[01;31me071_e036_t006_w_pair_augmentation_7_7_2019-04-05-16-22-34_0.92262_sub_no_rank.csv.gz\u001b[0m\u001b[K\r\n",
      "\u001b[01;31me071_e036_t006_w_pair_augmentation_7_7_2019-04-05-17-19-02_0.92058_sub.csv.gz\u001b[0m\r\n",
      "e071_e036_t006_w_pair_augmentation_7_7_2019-04-05-17-19-02_0.92058_sub_no_rank.csv\r\n",
      "\u001b[01;31me071_e036_t006_w_pair_augmentation_7_7_2019-04-05-17-35-24_0.92357_sub.csv.gz\u001b[0m\r\n",
      "e071_e036_t006_w_pair_augmentation_7_7_2019-04-05-17-35-24_0.92357_sub_no_rank.csv\r\n",
      "\u001b[01;31me072_e036_t006_w_pair_augmentation_50_50_2019-04-05-17-56-18_0.92326_sub.csv.gz\u001b[0m\r\n",
      "e072_e036_t006_w_pair_augmentation_50_50_2019-04-05-17-56-18_0.92326_sub_no_rank.csv\r\n",
      "\u001b[01;31me073_e036_t006_w_pair_augmentation_10_10_2019-04-06-05-37-14_0.92348_sub.csv.gz\u001b[0m\r\n",
      "e073_e036_t006_w_pair_augmentation_10_10_2019-04-06-05-37-14_0.92348_sub_no_rank.csv\r\n",
      "\u001b[01;31me074_e036_t006_w_pair_augmentation_0_10_2019-04-06-05-37-35_0.92363_sub.csv.gz\u001b[0m\r\n",
      "e074_e036_t006_w_pair_augmentation_0_10_2019-04-06-05-37-35_0.92363_sub_no_rank.csv\r\n",
      "\u001b[01;31me075_e036_t006_w_pair_augmentation_0_10_w_train_weight_2019-04-06-05-46-25_0.923_sub.csv.gz\u001b[0m\u001b[K\r\n",
      "e075_e036_t006_w_pair_augmentation_0_10_w_train_weight_2019-04-06-05-46-25_0.923_sub_no_rank.csv\r\n",
      "\u001b[01;31me076_e036_t006_w_pair_augmentation_0_30_w_train_weight_2019-04-06-06-57-40_0.92303_sub.csv.gz\u001b[0m\u001b[K\r\n",
      "e076_e036_t006_w_pair_augmentation_0_30_w_train_weight_2019-04-06-06-57-40_0.92303_sub_no_rank.csv\r\n",
      "\u001b[01;31me077_1st_stacking_wo_features_2019-04-06-17-40-29_0.92446_sub.csv.gz\u001b[0m\r\n",
      "e077_1st_stacking_wo_features_2019-04-06-17-40-29_0.92446_sub_no_rank.csv\r\n",
      "\u001b[01;31me077_1st_stacking_wo_features_2019-04-06-18-21-59_0.92449_sub.csv.gz\u001b[0m\r\n",
      "e077_1st_stacking_wo_features_2019-04-06-18-21-59_0.92449_sub_no_rank.csv\r\n",
      "\u001b[01;31me077_e036_t006_w_pair_augmentation_30_30_2019-04-06-07-33-40_0.92326_sub.csv.gz\u001b[0m\r\n",
      "e077_e036_t006_w_pair_augmentation_30_30_2019-04-06-07-33-40_0.92326_sub_no_rank.csv\r\n",
      "\u001b[01;31me078_1st_stacking_w_features_2019-04-06-18-47-48_0.92425_sub.csv.gz\u001b[0m\r\n",
      "e078_1st_stacking_w_features_2019-04-06-18-47-48_0.92425_sub_no_rank.csv\r\n",
      "\u001b[01;31me078_1st_stacking_w_features_2019-04-06-19-14-58_0.92424_sub.csv.gz\u001b[0m\r\n",
      "e078_1st_stacking_w_features_2019-04-06-19-14-58_0.92424_sub_no_rank.csv\r\n",
      "\u001b[01;31me078_1st_stacking_w_features_2019-04-06-19-41-08_0.92446_sub.csv.gz\u001b[0m\r\n",
      "e078_1st_stacking_w_features_2019-04-06-19-41-08_0.92446_sub_no_rank.csv\r\n",
      "\u001b[01;31me079_1st_stacking_w_cnt_features_2019-04-06-19-18-48_0.92441_sub.csv.gz\u001b[0m\r\n",
      "e079_1st_stacking_w_cnt_features_2019-04-06-19-18-48_0.92441_sub_no_rank.csv\r\n",
      "\u001b[01;31me079_1st_stacking_w_cnt_features_2019-04-06-19-26-37_0.92439_sub.csv.gz\u001b[0m\r\n",
      "e079_1st_stacking_w_cnt_features_2019-04-06-19-26-37_0.92439_sub_no_rank.csv\r\n",
      "\u001b[01;31me079_1st_stacking_w_cnt_features_2019-04-06-19-32-13_0.92441_sub.csv.gz\u001b[0m\r\n",
      "e079_1st_stacking_w_cnt_features_2019-04-06-19-32-13_0.92441_sub_no_rank.csv\r\n",
      "\u001b[01;31me079_1st_stacking_w_cnt_features_2019-04-06-19-42-14_0.9244_sub.csv.gz\u001b[0m\r\n",
      "e079_1st_stacking_w_cnt_features_2019-04-06-19-42-14_0.9244_sub_no_rank.csv\r\n",
      "\u001b[01;31me079_1st_stacking_w_cnt_features_2019-04-06-19-50-13_0.92448_sub.csv.gz\u001b[0m\r\n",
      "e079_1st_stacking_w_cnt_features_2019-04-06-19-50-13_0.92448_sub_no_rank.csv\r\n",
      "\u001b[01;31me080_LR_1st_stacking_wo_features_2019-04-06-20-28-06_0.92399_sub.csv.gz\u001b[0m\r\n",
      "e080_LR_1st_stacking_wo_features_2019-04-06-20-28-06_0.92399_sub_no_rank.csv\r\n",
      "\u001b[01;31me080_LR_1st_stacking_wo_features_2019-04-06-20-28-42_0.92406_sub.csv.gz\u001b[0m\r\n",
      "e080_LR_1st_stacking_wo_features_2019-04-06-20-28-42_0.92406_sub_no_rank.csv\r\n",
      "\u001b[01;31me080_LR_1st_stacking_wo_features_2019-04-06-20-29-01_0.92428_sub.csv.gz\u001b[0m\r\n",
      "e080_LR_1st_stacking_wo_features_2019-04-06-20-29-01_0.92428_sub_no_rank.csv\r\n",
      "\u001b[01;31me080_LR_1st_stacking_wo_features_2019-04-06-20-29-40_0.92449_sub.csv.gz\u001b[0m\r\n",
      "e080_LR_1st_stacking_wo_features_2019-04-06-20-29-40_0.92449_sub_no_rank.csv\r\n",
      "\u001b[01;31me080_LR_1st_stacking_wo_features_2019-04-06-20-30-09_0.92462_sub.csv.gz\u001b[0m\r\n",
      "e080_LR_1st_stacking_wo_features_2019-04-06-20-30-09_0.92462_sub_no_rank.csv\r\n",
      "\u001b[01;31me080_LR_1st_stacking_wo_features_2019-04-06-20-32-17_0.92443_sub.csv.gz\u001b[0m\r\n",
      "e080_LR_1st_stacking_wo_features_2019-04-06-20-32-17_0.92443_sub_no_rank.csv\r\n",
      "\u001b[01;31me080_LR_1st_stacking_wo_features_2019-04-06-20-33-07_0.92443_sub.csv.gz\u001b[0m\r\n",
      "e080_LR_1st_stacking_wo_features_2019-04-06-20-33-07_0.92443_sub_no_rank.csv\r\n",
      "\u001b[01;31me080_LR_1st_stacking_wo_features_2019-04-06-20-33-40_0.92443_sub.csv.gz\u001b[0m\r\n",
      "e080_LR_1st_stacking_wo_features_2019-04-06-20-33-40_0.92443_sub_no_rank.csv\r\n",
      "\u001b[01;31me080_LR_1st_stacking_wo_features_2019-04-06-20-34-07_0.92443_sub.csv.gz\u001b[0m\r\n",
      "e080_LR_1st_stacking_wo_features_2019-04-06-20-34-07_0.92443_sub_no_rank.csv\r\n",
      "\u001b[01;31me080_LR_1st_stacking_wo_features_2019-04-06-20-34-56_0.92462_sub.csv.gz\u001b[0m\r\n",
      "e080_LR_1st_stacking_wo_features_2019-04-06-20-34-56_0.92462_sub_no_rank.csv\r\n",
      "\u001b[01;31me081_e036_common_fold_2019-04-07-07-41-25_0.92249_sub.csv.gz\u001b[0m\r\n",
      "e081_e036_common_fold_2019-04-07-07-41-25_0.92249_sub_no_rank.csv\r\n",
      "\u001b[01;31me082_e036_common_fold_f034_features_2019-04-07-08-17-41_0.92243_sub.csv.gz\u001b[0m\r\n",
      "e082_e036_common_fold_f034_features_2019-04-07-08-17-41_0.92243_sub_no_rank.csv\r\n",
      "\u001b[01;31me083_e036_common_fold_f034_features_10_10_2019-04-07-08-26-38_0.92237_sub.csv.gz\u001b[0m\r\n",
      "e083_e036_common_fold_f034_features_10_10_2019-04-07-08-26-38_0.92237_sub_no_rank.csv\r\n",
      "\u001b[01;31me085_e036_param_tune_10_10_2019-04-07-13-43-28_0.92332_sub.csv.gz\u001b[0m\r\n",
      "e085_e036_param_tune_10_10_2019-04-07-13-43-28_0.92332_sub_no_rank.csv\r\n",
      "\u001b[01;31me088_e036_common_fold_f034_features_10_10_more_leaves_2019-04-08-01-17-28_0.92338_sub.csv.gz\u001b[0m\u001b[K\r\n",
      "e088_e036_common_fold_f034_features_10_10_more_leaves_2019-04-08-01-17-28_0.92338_sub_no_rank.csv\r\n",
      "\u001b[01;31me088_e036_target_encoding_2019-04-07-15-52-30_0.92267_sub.csv.gz\u001b[0m\r\n",
      "e088_e036_target_encoding_2019-04-07-15-52-30_0.92267_sub_no_rank.csv\r\n",
      "\u001b[01;31me088_e036_target_encoding_2019-04-07-17-21-25_0.92247_sub.csv.gz\u001b[0m\r\n",
      "e088_e036_target_encoding_2019-04-07-17-21-25_0.92247_sub_no_rank.csv\r\n",
      "\u001b[01;31me089_e036_w_real_count_encoding_2019-04-08-01-36-07_0.92236_sub.csv.gz\u001b[0m\r\n",
      "e089_e036_w_real_count_encoding_2019-04-08-01-36-07_0.92236_sub_no_rank.csv\r\n",
      "\u001b[01;31me090_e081_bin_change_2019-04-08-05-16-40_0.9236_sub.csv.gz\u001b[0m\r\n",
      "e090_e081_bin_change_2019-04-08-05-16-40_0.9236_sub_no_rank.csv\r\n",
      "\u001b[01;31me091_e081_bin_change_0_10_2019-04-08-05-19-25_0.92396_sub.csv.gz\u001b[0m\r\n",
      "e091_e081_bin_change_0_10_2019-04-08-05-19-25_0.92396_sub_no_rank.csv\r\n",
      "\u001b[01;31me094_nagiss_features_2019-04-09-08-23-24_0.92294_sub.csv.gz\u001b[0m\r\n",
      "e094_nagiss_features_2019-04-09-08-23-24_0.92294_sub_no_rank.csv\r\n",
      "\u001b[01;31me094_nagiss_features_2019-04-09-08-58-34_0.92288_sub.csv.gz\u001b[0m\r\n",
      "e094_nagiss_features_2019-04-09-08-58-34_0.92288_sub_no_rank.csv\r\n",
      "\u001b[01;31me095_e081_bin_change_10_10_2019-04-09-10-09-32_0.9236_sub.csv.gz\u001b[0m\r\n",
      "e095_e081_bin_change_10_10_2019-04-09-10-09-32_0.9236_sub_no_rank.csv\r\n",
      "\u001b[01;31me096_2nd_rank_stacking_wo_features_2019-04-10-00-14-03_0.92617_sub.csv.gz\u001b[0m\r\n",
      "e096_2nd_rank_stacking_wo_features_2019-04-10-00-14-03_0.92617_sub_no_rank.csv\r\n",
      "\u001b[01;31me097_LR_2nd_rank_stacking_wo_features_2019-04-10-01-35-32_0.9259_sub.csv.gz\u001b[0m\r\n",
      "e097_LR_2nd_rank_stacking_wo_features_2019-04-10-01-35-32_0.9259_sub_no_rank.csv\r\n",
      "\u001b[01;31me097_LR_2nd_rank_stacking_wo_features_2019-04-10-01-45-14_0.92572_sub.csv.gz\u001b[0m\r\n",
      "e097_LR_2nd_rank_stacking_wo_features_2019-04-10-01-45-14_0.92572_sub_no_rank.csv\r\n",
      "\u001b[01;31me098_2nd_rank_stacking_w_features_2019-04-10-02-03-15_0.92613_sub.csv.gz\u001b[0m\r\n",
      "e098_2nd_rank_stacking_w_features_2019-04-10-02-03-15_0.92613_sub_no_rank.csv\r\n",
      "\u001b[01;31me098_2nd_rank_stacking_w_features_2019-04-10-02-20-24_0.9261_sub.csv.gz\u001b[0m\r\n",
      "e098_2nd_rank_stacking_w_features_2019-04-10-02-20-24_0.9261_sub_no_rank.csv\r\n",
      "\u001b[01;31me099_e091_seed_98765_2019-04-10-04-48-31_0.92384_sub.csv.gz\u001b[0m\r\n",
      "e099_e091_seed_98765_2019-04-10-04-48-31_0.92384_sub_no_rank.csv\r\n",
      "\u001b[01;31me100_XGB_0_10_2019-04-10-14-10-23_0.5_sub.csv.gz\u001b[0m\r\n",
      "e100_XGB_0_10_2019-04-10-14-10-23_0.5_sub_no_rank.csv\r\n",
      "\u001b[01;31me101_e091_seed_77777_2019-04-10-07-16-36_0.92396_sub.csv.gz\u001b[0m\r\n",
      "e101_e091_seed_77777_2019-04-10-07-16-36_0.92396_sub_no_rank.csv\r\n",
      "\u001b[01;31mguchio3_nagissLGBM1_nagissNN3_vicens3_real_rank_avg_CV_0.92561.csv.gz\u001b[0m\r\n",
      "\u001b[01;31mguchio9_naggis3_vicens7_rank_avg_CV_0.92484.csv.gz\u001b[0m\r\n",
      "nagis_sub1.csv\r\n",
      "rank_avg.csv\r\n",
      "\u001b[01;31mrank_avg.csv.gz\u001b[0m\r\n",
      "sub_pa_lgb_F1000_30.03.2019-18_54__0.92072_MCC0.5882.csv\r\n",
      "temp_sub_no_rank.csv\r\n"
     ]
    }
   ],
   "source": [
    "ls ../mnt/submissions/"
   ]
  },
  {
   "cell_type": "code",
   "execution_count": 8,
   "metadata": {
    "scrolled": true
   },
   "outputs": [],
   "source": [
    "reals = np.load('../mnt/inputs/nes_info/real_samples_indexes.npz.npy')\n",
    "\n",
    "# guchio best aug\n",
    "guchio_oof = pd.read_csv('../mnt/blendings/2nd/e091_e081_bin_change_0_10_2019-04-08-05-19-25_0.92396_oofs.csv')\n",
    "guchio_sub = pd.read_csv('../mnt/blendings/2nd/e091_e081_bin_change_0_10_2019-04-08-05-19-25_0.92396_sub_no_rank.csv')\n",
    "guchio_sub_rank = pd.read_csv('../mnt/blendings/2nd/e091_e081_bin_change_0_10_2019-04-08-05-19-25_0.92396_sub.csv.gz')\n",
    "\n",
    "# 2nd seed avg\n",
    "guchio_oof_2 = pd.read_csv('../mnt/oofs/e099_e091_seed_98765_2019-04-10-04-48-31_0.92384_oofs.csv')\n",
    "guchio_sub_2 = pd.read_csv('../mnt/submissions/e099_e091_seed_98765_2019-04-10-04-48-31_0.92384_sub_no_rank.csv')\n",
    "guchio_sub_2_rank = pd.read_csv('../mnt/submissions/e099_e091_seed_98765_2019-04-10-04-48-31_0.92384_sub.csv.gz')\n",
    "\n",
    "# 3rd seed avg\n",
    "guchio_oof_3 = pd.read_csv('../mnt/oofs/e101_e091_seed_77777_2019-04-10-07-16-36_0.92396_oofs.csv')\n",
    "guchio_sub_3 = pd.read_csv('../mnt/submissions/e101_e091_seed_77777_2019-04-10-07-16-36_0.92396_sub_no_rank.csv')\n",
    "guchio_sub_3_rank = pd.read_csv('../mnt/submissions/e101_e091_seed_77777_2019-04-10-07-16-36_0.92396_sub.csv.gz')"
   ]
  },
  {
   "cell_type": "code",
   "execution_count": 12,
   "metadata": {},
   "outputs": [],
   "source": [
    "def plot_oof_and_sub_hist(ax, oof_series, sub_series, reals):\n",
    "    plt_sub = sub_series.iloc[reals]\n",
    "    sns.distplot(oof_series, kde=False, bins=100, ax=ax, color=None, label='oof', norm_hist=True, hist_kws={'alpha': 0.3})\n",
    "    sns.distplot(plt_sub, kde=False, bins=100, ax=ax, color='red', label='sub', norm_hist=True, hist_kws={'alpha': 0.3})\n",
    "    # sns.distplot(oof_series, kde=False, bins=100, ax=ax, color=None, label='oof', norm_hist=False, hist_kws={'alpha': 0.3})\n",
    "    # sns.distplot(plt_sub, kde=False, bins=100, ax=ax, color='red', label='sub', norm_hist=False, hist_kws={'alpha': 0.3})\n",
    "    ax.set_xlim(0.0, 1.0)"
   ]
  },
  {
   "cell_type": "code",
   "execution_count": 13,
   "metadata": {},
   "outputs": [
    {
     "name": "stderr",
     "output_type": "stream",
     "text": [
      "/root/anaconda3/lib/python3.7/site-packages/matplotlib/ticker.py:2241: UserWarning: Data has no positive values, and therefore cannot be log-scaled.\n",
      "  \"Data has no positive values, and therefore cannot be \"\n",
      "/root/anaconda3/lib/python3.7/site-packages/matplotlib/ticker.py:2241: UserWarning: Data has no positive values, and therefore cannot be log-scaled.\n",
      "  \"Data has no positive values, and therefore cannot be \"\n",
      "/root/anaconda3/lib/python3.7/site-packages/matplotlib/ticker.py:2241: UserWarning: Data has no positive values, and therefore cannot be log-scaled.\n",
      "  \"Data has no positive values, and therefore cannot be \"\n"
     ]
    },
    {
     "data": {
      "text/plain": [
       "<matplotlib.legend.Legend at 0x7f78aaebcdd8>"
      ]
     },
     "execution_count": 13,
     "metadata": {},
     "output_type": "execute_result"
    },
    {
     "data": {
      "image/png": "[encoded data removed]",
      "text/plain": [
       "<Figure size 1800x720 with 6 Axes>"
      ]
     },
     "metadata": {
      "image/png": {
       "height": 603,
       "width": 1447
      },
      "needs_background": "light"
     },
     "output_type": "display_data"
    }
   ],
   "source": [
    "fig, axs = plt.subplots(2, 3, figsize=(25, 10))\n",
    "\n",
    "# nomalscale\n",
    "# guchio\n",
    "ax = axs[0, 0]\n",
    "ax.set_title('guchio seed 71')\n",
    "plot_oof_and_sub_hist(ax, guchio_oof.oof_proba, guchio_sub.target, reals)\n",
    "ax.legend()\n",
    "# nagiss\n",
    "ax = axs[0, 1]\n",
    "ax.set_title('guchio seed 98765')\n",
    "plot_oof_and_sub_hist(ax, guchio_oof_2.oof_proba, guchio_sub_2.target, reals)\n",
    "ax.legend()\n",
    "# nagiss\n",
    "ax = axs[0, 2]\n",
    "ax.set_title('guchio seed 77777')\n",
    "plot_oof_and_sub_hist(ax, guchio_oof_3.oof_proba, guchio_sub_3.target, reals)\n",
    "ax.legend()\n",
    "\n",
    "\n",
    "## log scale\n",
    "# guchio\n",
    "ax = axs[1, 0]\n",
    "ax.set_yscale('log')\n",
    "ax.set_title('guchio seed 71 -- log')\n",
    "plot_oof_and_sub_hist(ax, guchio_oof.oof_proba, guchio_sub.target, reals)\n",
    "ax.legend()\n",
    "# nagiss\n",
    "ax = axs[1, 1]\n",
    "ax.set_yscale('log')\n",
    "ax.set_title('guchio seed 98765 -- log')\n",
    "plot_oof_and_sub_hist(ax, guchio_oof_2.oof_proba, guchio_sub_2.target, reals)\n",
    "ax.legend()\n",
    "# nagiss nn \n",
    "ax = axs[1, 2]\n",
    "ax.set_yscale('log')\n",
    "ax.set_title('guchio seed 77777 -- log')\n",
    "plot_oof_and_sub_hist(ax, guchio_oof_3.oof_proba, guchio_sub_3.target, reals)\n",
    "ax.legend()"
   ]
  },
  {
   "cell_type": "code",
   "execution_count": 17,
   "metadata": {},
   "outputs": [],
   "source": [
    "res = (guchio_sub_rank.iloc[reals].target.rank() + guchio_sub_2_rank.iloc[reals].target.rank() + guchio_sub_3_rank.iloc[reals].target.rank()) / len(reals) / 3"
   ]
  },
  {
   "cell_type": "code",
   "execution_count": 18,
   "metadata": {},
   "outputs": [
    {
     "data": {
      "text/html": [
       "<div>\n",
       "<style scoped>\n",
       "    .dataframe tbody tr th:only-of-type {\n",
       "        vertical-align: middle;\n",
       "    }\n",
       "\n",
       "    .dataframe tbody tr th {\n",
       "        vertical-align: top;\n",
       "    }\n",
       "\n",
       "    .dataframe thead th {\n",
       "        text-align: right;\n",
       "    }\n",
       "</style>\n",
       "<table border=\"1\" class=\"dataframe\">\n",
       "  <thead>\n",
       "    <tr style=\"text-align: right;\">\n",
       "      <th></th>\n",
       "      <th>ID_code</th>\n",
       "      <th>target</th>\n",
       "    </tr>\n",
       "  </thead>\n",
       "  <tbody>\n",
       "    <tr>\n",
       "      <th>0</th>\n",
       "      <td>test_0</td>\n",
       "      <td>0.008703</td>\n",
       "    </tr>\n",
       "    <tr>\n",
       "      <th>1</th>\n",
       "      <td>test_1</td>\n",
       "      <td>0.024498</td>\n",
       "    </tr>\n",
       "    <tr>\n",
       "      <th>2</th>\n",
       "      <td>test_2</td>\n",
       "      <td>0.027850</td>\n",
       "    </tr>\n",
       "    <tr>\n",
       "      <th>3</th>\n",
       "      <td>test_3</td>\n",
       "      <td>0.806333</td>\n",
       "    </tr>\n",
       "    <tr>\n",
       "      <th>4</th>\n",
       "      <td>test_4</td>\n",
       "      <td>0.008131</td>\n",
       "    </tr>\n",
       "  </tbody>\n",
       "</table>\n",
       "</div>"
      ],
      "text/plain": [
       "  ID_code    target\n",
       "0  test_0  0.008703\n",
       "1  test_1  0.024498\n",
       "2  test_2  0.027850\n",
       "3  test_3  0.806333\n",
       "4  test_4  0.008131"
      ]
     },
     "execution_count": 18,
     "metadata": {},
     "output_type": "execute_result"
    }
   ],
   "source": [
    "res_df = guchio_sub.copy()\n",
    "res_df.iloc[reals, 1] = res.values\n",
    "res_df.head()"
   ]
  },
  {
   "cell_type": "code",
   "execution_count": 19,
   "metadata": {},
   "outputs": [
    {
     "data": {
      "text/plain": [
       "0.5000050000000047"
      ]
     },
     "execution_count": 19,
     "metadata": {},
     "output_type": "execute_result"
    }
   ],
   "source": [
    "res.mean()"
   ]
  },
  {
   "cell_type": "code",
   "execution_count": null,
   "metadata": {},
   "outputs": [],
   "source": []
  },
  {
   "cell_type": "code",
   "execution_count": 20,
   "metadata": {},
   "outputs": [],
   "source": [
    "res_df.to_csv('../mnt/submissions/guchio_bestLGBM_seed_avg_71_98765_77777.csv.gz', index=False, compression='gzip')"
   ]
  },
  {
   "cell_type": "code",
   "execution_count": null,
   "metadata": {},
   "outputs": [],
   "source": []
  },
  {
   "cell_type": "code",
   "execution_count": 22,
   "metadata": {},
   "outputs": [
    {
     "data": {
      "text/html": [
       "<div>\n",
       "<style scoped>\n",
       "    .dataframe tbody tr th:only-of-type {\n",
       "        vertical-align: middle;\n",
       "    }\n",
       "\n",
       "    .dataframe tbody tr th {\n",
       "        vertical-align: top;\n",
       "    }\n",
       "\n",
       "    .dataframe thead th {\n",
       "        text-align: right;\n",
       "    }\n",
       "</style>\n",
       "<table border=\"1\" class=\"dataframe\">\n",
       "  <thead>\n",
       "    <tr style=\"text-align: right;\">\n",
       "      <th></th>\n",
       "      <th>seed 71</th>\n",
       "      <th>seed 98765</th>\n",
       "      <th>seed 77777</th>\n",
       "    </tr>\n",
       "  </thead>\n",
       "  <tbody>\n",
       "    <tr>\n",
       "      <th>seed 71</th>\n",
       "      <td>1.000000</td>\n",
       "      <td>0.999696</td>\n",
       "      <td>0.999689</td>\n",
       "    </tr>\n",
       "    <tr>\n",
       "      <th>seed 98765</th>\n",
       "      <td>0.999696</td>\n",
       "      <td>1.000000</td>\n",
       "      <td>0.999687</td>\n",
       "    </tr>\n",
       "    <tr>\n",
       "      <th>seed 77777</th>\n",
       "      <td>0.999689</td>\n",
       "      <td>0.999687</td>\n",
       "      <td>1.000000</td>\n",
       "    </tr>\n",
       "  </tbody>\n",
       "</table>\n",
       "</div>"
      ],
      "text/plain": [
       "             seed 71  seed 98765  seed 77777\n",
       "seed 71     1.000000    0.999696    0.999689\n",
       "seed 98765  0.999696    1.000000    0.999687\n",
       "seed 77777  0.999689    0.999687    1.000000"
      ]
     },
     "execution_count": 22,
     "metadata": {},
     "output_type": "execute_result"
    }
   ],
   "source": [
    "a = pd.concat([guchio_sub_rank.target, guchio_sub_2_rank.target, guchio_sub_3_rank.target], axis=1)\n",
    "a.columns = ['seed 71', 'seed 98765', 'seed 77777']\n",
    "a.corr()"
   ]
  },
  {
   "cell_type": "code",
   "execution_count": null,
   "metadata": {},
   "outputs": [],
   "source": []
  },
  {
   "cell_type": "code",
   "execution_count": null,
   "metadata": {},
   "outputs": [],
   "source": []
  },
  {
   "cell_type": "code",
   "execution_count": null,
   "metadata": {},
   "outputs": [],
   "source": []
  },
  {
   "cell_type": "code",
   "execution_count": null,
   "metadata": {},
   "outputs": [],
   "source": []
  },
  {
   "cell_type": "code",
   "execution_count": null,
   "metadata": {},
   "outputs": [],
   "source": []
  }
 ],
 "metadata": {
  "kernelspec": {
   "display_name": "Python 3",
   "language": "python",
   "name": "python3"
  },
  "language_info": {
   "codemirror_mode": {
    "name": "ipython",
    "version": 3
   },
   "file_extension": ".py",
   "mimetype": "text/x-python",
   "name": "python",
   "nbconvert_exporter": "python",
   "pygments_lexer": "ipython3",
   "version": "3.7.1"
  }
 },
 "nbformat": 4,
 "nbformat_minor": 2
}
